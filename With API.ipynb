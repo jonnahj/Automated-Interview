{
 "cells": [
  {
   "cell_type": "code",
   "execution_count": 2,
   "metadata": {},
   "outputs": [],
   "source": [
    "import time\n",
    "import speech_recognition as sr\n",
    "from time import ctime\n",
    "from gtts import gTTS\n",
    "import gtts\n",
    "import os\n",
    "from playsound import playsound\n",
    "from openpyxl import *\n",
    "from tkinter import *"
   ]
  },
  {
   "cell_type": "code",
   "execution_count": 13,
   "metadata": {},
   "outputs": [],
   "source": [
    "import pygame"
   ]
  },
  {
   "cell_type": "code",
   "execution_count": 2,
   "metadata": {},
   "outputs": [
    {
     "name": "stdout",
     "output_type": "stream",
     "text": [
      "jhvyfc\n",
      "hfcdsasertfcvgbhnjm,.asdfghjkl;qwertyuiop[\n"
     ]
    }
   ],
   "source": [
    "from openpyxl import *\n",
    "from tkinter import *\n",
    "    \n",
    "def focus1(event): \n",
    "    answer_field.focus_set()  \n",
    "    \n",
    "def clear(): \n",
    "    answer_field.delete(0, END) \n",
    "\n",
    "def insert():\n",
    "    name = answer_field.get()\n",
    "    print(name)\n",
    "    clear()\n",
    "\n",
    "if __name__ == \"__main__\": \n",
    "      \n",
    "    root = Tk() \n",
    "    root.configure(background='white')\n",
    "   \n",
    "    root.title(\"Questions\") \n",
    "    root.geometry(\"800x800\")  \n",
    "  \n",
    "    #heading = Label(root, text=\"Question - 1\", bg='white')\n",
    "    answer = Label(root, text=\"Answer\", bg='white')\n",
    "    \n",
    "    #heading.grid(row=0, column=1) \n",
    "    answer.grid(row=4, column=1, ipadx=\"100\") \n",
    "    \n",
    "    answer_field = Entry(root)  \n",
    "  \n",
    "    answer_field.bind(\"<Return>\", focus1)  \n",
    "    answer_field.grid(row=4, column=1, ipadx=\"100\")  \n",
    "    \n",
    "    submit = Button(root, text=\"Submit\", fg=\"Black\", bg=\"Red\", command=insert) \n",
    "    submit.grid(row=8, column=1)\n",
    "\n",
    "    # start the GUI \n",
    "    root.mainloop()\n",
    "    \n",
    "#print(answer_field.get())"
   ]
  },
  {
   "cell_type": "code",
   "execution_count": null,
   "metadata": {},
   "outputs": [],
   "source": []
  },
  {
   "cell_type": "code",
   "execution_count": 28,
   "metadata": {},
   "outputs": [
    {
     "name": "stdout",
     "output_type": "stream",
     "text": [
      "kcbhxvhkfv\n",
      "\n"
     ]
    }
   ],
   "source": [
    "from openpyxl import *\n",
    "from tkinter import *\n",
    "def form():\n",
    "    \n",
    "    def focus1(event): \n",
    "        answer_field.focus_set()\n",
    "        \n",
    "    def insert():\n",
    "        global u_input \n",
    "        u_input  = answer_field.get(\"1.0\",END)\n",
    "        #print(name)\n",
    "        root.destroy()\n",
    "    \n",
    "    def clear(): \n",
    "        answer_field.delete(0, END)\n",
    "        \n",
    "    root = Tk() \n",
    "    root.configure(background='blue')\n",
    "   \n",
    "    root.title(\"Interview\") \n",
    "    root.geometry(\"800x800\")  \n",
    "  \n",
    "    answer = Label(root, text=\"Type in the answer below!\", bg='white') \n",
    "    answer.grid(row=1, column=3, ipadx=\"100\") \n",
    "    \n",
    "    answer_field = Text(root)  \n",
    "  \n",
    "    answer_field.bind(\"<Return>\", focus1)  \n",
    "    answer_field.grid(row=4, column=3, ipadx=\"100\")  \n",
    "    \n",
    "    submit = Button(root, text=\"Submit\", fg=\"Black\", bg=\"Red\", command=insert) \n",
    "    submit.grid(row=8, column=3)\n",
    "\n",
    "    # start the GUI \n",
    "    root.mainloop()\n",
    "    \n",
    "\n",
    "form()\n",
    "print(u_input )\n"
   ]
  },
  {
   "cell_type": "code",
   "execution_count": 11,
   "metadata": {},
   "outputs": [
    {
     "ename": "AttributeError",
     "evalue": "partially initialized module 'pygame' has no attribute 'mouse' (most likely due to a circular import)",
     "output_type": "error",
     "traceback": [
      "\u001b[1;31m---------------------------------------------------------------------------\u001b[0m",
      "\u001b[1;31mAttributeError\u001b[0m                            Traceback (most recent call last)",
      "\u001b[1;32m<ipython-input-11-c852b985fdfa>\u001b[0m in \u001b[0;36m<module>\u001b[1;34m\u001b[0m\n\u001b[1;32m----> 1\u001b[1;33m \u001b[1;32mimport\u001b[0m \u001b[0mpygame\u001b[0m\u001b[1;33m\u001b[0m\u001b[1;33m\u001b[0m\u001b[0m\n\u001b[0m\u001b[0;32m      2\u001b[0m \u001b[0mpygame\u001b[0m\u001b[1;33m.\u001b[0m\u001b[0minit\u001b[0m\u001b[1;33m(\u001b[0m\u001b[1;33m)\u001b[0m\u001b[1;33m\u001b[0m\u001b[1;33m\u001b[0m\u001b[0m\n\u001b[0;32m      3\u001b[0m \u001b[0mwhite\u001b[0m \u001b[1;33m=\u001b[0m \u001b[1;33m(\u001b[0m\u001b[1;36m255\u001b[0m\u001b[1;33m,\u001b[0m \u001b[1;36m255\u001b[0m\u001b[1;33m,\u001b[0m \u001b[1;36m255\u001b[0m\u001b[1;33m)\u001b[0m\u001b[1;33m\u001b[0m\u001b[1;33m\u001b[0m\u001b[0m\n\u001b[0;32m      4\u001b[0m \u001b[0mgreen\u001b[0m \u001b[1;33m=\u001b[0m \u001b[1;33m(\u001b[0m\u001b[1;36m0\u001b[0m\u001b[1;33m,\u001b[0m \u001b[1;36m255\u001b[0m\u001b[1;33m,\u001b[0m \u001b[1;36m0\u001b[0m\u001b[1;33m)\u001b[0m\u001b[1;33m\u001b[0m\u001b[1;33m\u001b[0m\u001b[0m\n\u001b[0;32m      5\u001b[0m \u001b[0mblue\u001b[0m \u001b[1;33m=\u001b[0m \u001b[1;33m(\u001b[0m\u001b[1;36m0\u001b[0m\u001b[1;33m,\u001b[0m \u001b[1;36m0\u001b[0m\u001b[1;33m,\u001b[0m \u001b[1;36m128\u001b[0m\u001b[1;33m)\u001b[0m\u001b[1;33m\u001b[0m\u001b[1;33m\u001b[0m\u001b[0m\n",
      "\u001b[1;32m~\\anaconda3\\lib\\site-packages\\pygame\\__init__.py\u001b[0m in \u001b[0;36m<module>\u001b[1;34m\u001b[0m\n\u001b[0;32m    155\u001b[0m \u001b[1;33m\u001b[0m\u001b[0m\n\u001b[0;32m    156\u001b[0m \u001b[1;32mtry\u001b[0m\u001b[1;33m:\u001b[0m\u001b[1;33m\u001b[0m\u001b[1;33m\u001b[0m\u001b[0m\n\u001b[1;32m--> 157\u001b[1;33m     \u001b[1;32mimport\u001b[0m \u001b[0mpygame\u001b[0m\u001b[1;33m.\u001b[0m\u001b[0mcursors\u001b[0m\u001b[1;33m\u001b[0m\u001b[1;33m\u001b[0m\u001b[0m\n\u001b[0m\u001b[0;32m    158\u001b[0m \u001b[1;32mexcept\u001b[0m \u001b[1;33m(\u001b[0m\u001b[0mImportError\u001b[0m\u001b[1;33m,\u001b[0m \u001b[0mIOError\u001b[0m\u001b[1;33m)\u001b[0m\u001b[1;33m:\u001b[0m\u001b[1;33m\u001b[0m\u001b[1;33m\u001b[0m\u001b[0m\n\u001b[0;32m    159\u001b[0m     \u001b[0mcursors\u001b[0m \u001b[1;33m=\u001b[0m \u001b[0mMissingModule\u001b[0m\u001b[1;33m(\u001b[0m\u001b[1;34m\"cursors\"\u001b[0m\u001b[1;33m,\u001b[0m \u001b[0murgent\u001b[0m\u001b[1;33m=\u001b[0m\u001b[1;36m1\u001b[0m\u001b[1;33m)\u001b[0m\u001b[1;33m\u001b[0m\u001b[1;33m\u001b[0m\u001b[0m\n",
      "\u001b[1;32m~\\anaconda3\\lib\\site-packages\\pygame\\cursors.py\u001b[0m in \u001b[0;36m<module>\u001b[1;34m\u001b[0m\n\u001b[0;32m    104\u001b[0m     \u001b[0mcursor\u001b[0m \u001b[1;33m=\u001b[0m \u001b[0mCursor\u001b[0m\u001b[1;33m(\u001b[0m\u001b[1;33m*\u001b[0m\u001b[0margs\u001b[0m\u001b[1;33m)\u001b[0m\u001b[1;33m\u001b[0m\u001b[1;33m\u001b[0m\u001b[0m\n\u001b[0;32m    105\u001b[0m     \u001b[0mpygame\u001b[0m\u001b[1;33m.\u001b[0m\u001b[0mmouse\u001b[0m\u001b[1;33m.\u001b[0m\u001b[0m_set_cursor\u001b[0m\u001b[1;33m(\u001b[0m\u001b[1;33m**\u001b[0m\u001b[1;33m{\u001b[0m\u001b[0mcursor\u001b[0m\u001b[1;33m.\u001b[0m\u001b[0mtype\u001b[0m\u001b[1;33m:\u001b[0m\u001b[0mcursor\u001b[0m\u001b[1;33m.\u001b[0m\u001b[0mdata\u001b[0m\u001b[1;33m}\u001b[0m\u001b[1;33m)\u001b[0m\u001b[1;33m\u001b[0m\u001b[1;33m\u001b[0m\u001b[0m\n\u001b[1;32m--> 106\u001b[1;33m \u001b[0mpygame\u001b[0m\u001b[1;33m.\u001b[0m\u001b[0mmouse\u001b[0m\u001b[1;33m.\u001b[0m\u001b[0mset_cursor\u001b[0m \u001b[1;33m=\u001b[0m \u001b[0mset_cursor\u001b[0m\u001b[1;33m\u001b[0m\u001b[1;33m\u001b[0m\u001b[0m\n\u001b[0m\u001b[0;32m    107\u001b[0m \u001b[1;32mdel\u001b[0m \u001b[0mset_cursor\u001b[0m \u001b[1;31m# cleanup namespace\u001b[0m\u001b[1;33m\u001b[0m\u001b[1;33m\u001b[0m\u001b[0m\n\u001b[0;32m    108\u001b[0m \u001b[1;33m\u001b[0m\u001b[0m\n",
      "\u001b[1;31mAttributeError\u001b[0m: partially initialized module 'pygame' has no attribute 'mouse' (most likely due to a circular import)"
     ]
    }
   ],
   "source": [
    "import pygame\n",
    "pygame.init()\n",
    "white = (255, 255, 255)\n",
    "green = (0, 255, 0)\n",
    "blue = (0, 0, 128)\n",
    " \n",
    "display_surface = pygame.display.set_mode((800, 800))\n",
    " \n",
    "pygame.display.set_caption('Your Results')\n",
    "font = pygame.font.Font('freesansbold.ttf', 32)\n",
    "\n",
    "text = font.render('Congratulations!', True, blue)\n",
    "textRect = text.get_rect()\n",
    "textRect.center = (800//2, 20)\n",
    " \n",
    "text1 = font.render('You are selected for the job!', True, blue)\n",
    "textRect1 = text.get_rect()\n",
    "textRect1.center = (650//2, 800//2)\n",
    "\n",
    "while True:\n",
    "    display_surface.fill(white)\n",
    "    display_surface.blit(text, textRect)\n",
    "    display_surface.blit(text1, textRect1)\n",
    "    for event in pygame.event.get():\n",
    "        if event.type == pygame.QUIT:\n",
    "            pygame.quit()\n",
    "            quit()\n",
    "        pygame.display.update()"
   ]
  },
  {
   "cell_type": "code",
   "execution_count": 7,
   "metadata": {},
   "outputs": [
    {
     "name": "stdout",
     "output_type": "stream",
     "text": [
      "pygame 2.0.1 (SDL 2.0.14, Python 3.8.5)\n",
      "Hello from the pygame community. https://www.pygame.org/contribute.html\n"
     ]
    },
    {
     "ename": "SystemExit",
     "evalue": "",
     "output_type": "error",
     "traceback": [
      "An exception has occurred, use %tb to see the full traceback.\n",
      "\u001b[1;31mSystemExit\u001b[0m\n"
     ]
    },
    {
     "name": "stderr",
     "output_type": "stream",
     "text": [
      "C:\\Users\\Jonnah\\anaconda3\\lib\\site-packages\\IPython\\core\\interactiveshell.py:3426: UserWarning: To exit: use 'exit', 'quit', or Ctrl-D.\n",
      "  warn(\"To exit: use 'exit', 'quit', or Ctrl-D.\", stacklevel=1)\n"
     ]
    }
   ],
   "source": [
    "import pygame,sys\n",
    "\n",
    "pygame.init()\n",
    "screen = pygame.display.set_mode([500, 200])\n",
    "clock = pygame.time.Clock()\n",
    "\n",
    "base_font = pygame.font.Font(None, 100)\n",
    "user_text = \"\"\n",
    "\n",
    "while True:\n",
    "    for event in pygame.event.get():\n",
    "        if event.type == pygame.QUIT:\n",
    "            pygame.quit()\n",
    "            sys.exit()\n",
    "        if event.type == pygame.KEYDOWN:\n",
    "            if event.key == pygame.K_BACKSPACE:\n",
    "                user_text = user_text[:-1]\n",
    "            else:\n",
    "                user_text += event.unicode\n",
    "            \n",
    "    screen.fill((0,0,0))\n",
    "    text_surface = base_font.render(user_text,True,(255,255,255))\n",
    "    screen.blit(text_surface,(0,0))\n",
    "    \n",
    "    pygame.display.flip()\n",
    "    clock.tick(60)\n",
    "\n",
    "print(user_text)\n"
   ]
  },
  {
   "cell_type": "code",
   "execution_count": 8,
   "metadata": {},
   "outputs": [
    {
     "ename": "ModuleNotFoundError",
     "evalue": "No module named 'pygame_input'",
     "output_type": "error",
     "traceback": [
      "\u001b[1;31m---------------------------------------------------------------------------\u001b[0m",
      "\u001b[1;31mModuleNotFoundError\u001b[0m                       Traceback (most recent call last)",
      "\u001b[1;32m<ipython-input-8-40022fa8c766>\u001b[0m in \u001b[0;36m<module>\u001b[1;34m\u001b[0m\n\u001b[0;32m      1\u001b[0m \u001b[1;32mimport\u001b[0m \u001b[0mpygame\u001b[0m\u001b[1;33m\u001b[0m\u001b[1;33m\u001b[0m\u001b[0m\n\u001b[1;32m----> 2\u001b[1;33m \u001b[1;32mfrom\u001b[0m \u001b[0mpygame_input\u001b[0m \u001b[1;32mimport\u001b[0m \u001b[0mInputs\u001b[0m\u001b[1;33m,\u001b[0m \u001b[0mButton\u001b[0m\u001b[1;33m,\u001b[0m \u001b[0mJoyButton\u001b[0m\u001b[1;33m\u001b[0m\u001b[1;33m\u001b[0m\u001b[0m\n\u001b[0m\u001b[0;32m      3\u001b[0m \u001b[1;33m\u001b[0m\u001b[0m\n\u001b[0;32m      4\u001b[0m \u001b[0minputs\u001b[0m \u001b[1;33m=\u001b[0m \u001b[0mInputs\u001b[0m\u001b[1;33m(\u001b[0m\u001b[1;33m)\u001b[0m\u001b[1;33m\u001b[0m\u001b[1;33m\u001b[0m\u001b[0m\n\u001b[0;32m      5\u001b[0m \u001b[0minputs\u001b[0m\u001b[1;33m[\u001b[0m\u001b[1;34m\"fire\"\u001b[0m\u001b[1;33m]\u001b[0m \u001b[1;33m=\u001b[0m \u001b[0mButton\u001b[0m\u001b[1;33m(\u001b[0m\u001b[0mpygame\u001b[0m\u001b[1;33m.\u001b[0m\u001b[0mK_SPACE\u001b[0m\u001b[1;33m,\u001b[0m \u001b[0mJoyButton\u001b[0m\u001b[1;33m(\u001b[0m\u001b[1;36m1\u001b[0m\u001b[1;33m)\u001b[0m\u001b[1;33m)\u001b[0m\u001b[1;33m\u001b[0m\u001b[1;33m\u001b[0m\u001b[0m\n",
      "\u001b[1;31mModuleNotFoundError\u001b[0m: No module named 'pygame_input'"
     ]
    }
   ],
   "source": [
    "import pygame\n",
    "from pygame_input import Inputs, Button, JoyButton\n",
    "\n",
    "inputs = Inputs()\n",
    "inputs[\"fire\"] = Button(pygame.K_SPACE, JoyButton(1))\n",
    "inputs[\"fire\"].on_press_repeated(player.fire, delay=0.1)"
   ]
  },
  {
   "cell_type": "code",
   "execution_count": 8,
   "metadata": {},
   "outputs": [
    {
     "ename": "NameError",
     "evalue": "name 'Tk' is not defined",
     "output_type": "error",
     "traceback": [
      "\u001b[1;31m---------------------------------------------------------------------------\u001b[0m",
      "\u001b[1;31mNameError\u001b[0m                                 Traceback (most recent call last)",
      "\u001b[1;32m<ipython-input-8-6499b4af3b34>\u001b[0m in \u001b[0;36m<module>\u001b[1;34m\u001b[0m\n\u001b[0;32m     17\u001b[0m     \u001b[0mroot\u001b[0m\u001b[1;33m.\u001b[0m\u001b[0mmainloop\u001b[0m\u001b[1;33m(\u001b[0m\u001b[1;33m)\u001b[0m\u001b[1;33m\u001b[0m\u001b[1;33m\u001b[0m\u001b[0m\n\u001b[0;32m     18\u001b[0m \u001b[1;33m\u001b[0m\u001b[0m\n\u001b[1;32m---> 19\u001b[1;33m \u001b[0mdisplay\u001b[0m\u001b[1;33m(\u001b[0m\u001b[1;34m\"Jonnah\"\u001b[0m\u001b[1;33m)\u001b[0m\u001b[1;33m\u001b[0m\u001b[1;33m\u001b[0m\u001b[0m\n\u001b[0m\u001b[0;32m     20\u001b[0m \u001b[1;31m#print(u_input )\u001b[0m\u001b[1;33m\u001b[0m\u001b[1;33m\u001b[0m\u001b[1;33m\u001b[0m\u001b[0m\n",
      "\u001b[1;32m<ipython-input-8-6499b4af3b34>\u001b[0m in \u001b[0;36mdisplay\u001b[1;34m(name)\u001b[0m\n\u001b[0;32m      2\u001b[0m     \u001b[1;32mdef\u001b[0m \u001b[0minsert\u001b[0m\u001b[1;33m(\u001b[0m\u001b[1;33m)\u001b[0m\u001b[1;33m:\u001b[0m\u001b[1;33m\u001b[0m\u001b[1;33m\u001b[0m\u001b[0m\n\u001b[0;32m      3\u001b[0m         \u001b[0mroot\u001b[0m\u001b[1;33m.\u001b[0m\u001b[0mdestroy\u001b[0m\u001b[1;33m(\u001b[0m\u001b[1;33m)\u001b[0m\u001b[1;33m\u001b[0m\u001b[1;33m\u001b[0m\u001b[0m\n\u001b[1;32m----> 4\u001b[1;33m     \u001b[0mroot\u001b[0m \u001b[1;33m=\u001b[0m \u001b[0mTk\u001b[0m\u001b[1;33m(\u001b[0m\u001b[1;33m)\u001b[0m\u001b[1;33m\u001b[0m\u001b[1;33m\u001b[0m\u001b[0m\n\u001b[0m\u001b[0;32m      5\u001b[0m     \u001b[0mroot\u001b[0m\u001b[1;33m.\u001b[0m\u001b[0mconfigure\u001b[0m\u001b[1;33m(\u001b[0m\u001b[0mbackground\u001b[0m\u001b[1;33m=\u001b[0m\u001b[1;34m'blue'\u001b[0m\u001b[1;33m)\u001b[0m\u001b[1;33m\u001b[0m\u001b[1;33m\u001b[0m\u001b[0m\n\u001b[0;32m      6\u001b[0m \u001b[1;33m\u001b[0m\u001b[0m\n",
      "\u001b[1;31mNameError\u001b[0m: name 'Tk' is not defined"
     ]
    }
   ],
   "source": [
    "def display(name):\n",
    "    def insert():\n",
    "        root.destroy()\n",
    "    root = Tk() \n",
    "    root.configure(background='blue')\n",
    "   \n",
    "    root.title(\"Interview Result\") \n",
    "    root.geometry(\"800x800\")  \n",
    "  \n",
    "    answer = Label(root, text=\"Congratulation \" + name + \"! You are selected\", bg='white') \n",
    "    answer.grid(row=1, column=3, ipadx=\"100\") \n",
    "    \n",
    "    submit = Button(root, text=\"Submit\", fg=\"Black\", bg=\"Red\", command=insert) \n",
    "    submit.grid(row=8, column=3)\n",
    "\n",
    "    # start the GUI \n",
    "    root.mainloop()\n",
    "    \n",
    "display(\"Jonnah\")\n",
    "#print(u_input )"
   ]
  },
  {
   "cell_type": "code",
   "execution_count": 6,
   "metadata": {},
   "outputs": [],
   "source": [
    "def display (name):\n",
    "    import wx\n",
    "    app = wx.App() \n",
    "    window = wx.Frame(None, title = \"Interview Result\", size = (800,800)) \n",
    "    panel = wx.Panel(window) \n",
    "    label = wx.StaticText(panel, label = 'Congratulations ' + name + ' !', pos = (300,20)) \n",
    "    label1 = wx.StaticText(panel, label = 'You are selected for the job!', pos = (300,400))\n",
    "    window.Show(True) \n",
    "    app.MainLoop()"
   ]
  },
  {
   "cell_type": "code",
   "execution_count": 7,
   "metadata": {},
   "outputs": [],
   "source": [
    "display(\"Jonnah\")"
   ]
  },
  {
   "cell_type": "code",
   "execution_count": null,
   "metadata": {},
   "outputs": [],
   "source": [
    "def display1(name):\n",
    "    import pygame\n",
    "    pygame.init()\n",
    "    white = (255, 255, 255)\n",
    "    green = (0, 255, 0)\n",
    "    blue = (0, 0, 128)\n",
    " \n",
    "    display_surface = pygame.display.set_mode((800, 800))\n",
    " \n",
    "    pygame.display.set_caption('Your Results')\n",
    "    font = pygame.font.Font('freesansbold.ttf', 32)\n",
    "\n",
    "    text = font.render('Congratulations ' + name + ' !', True, blue)\n",
    "    textRect = text.get_rect()\n",
    "    textRect.center = (800//2, 20)\n",
    " \n",
    "    text1 = font.render('You are selected for the job!', True, blue)\n",
    "    textRect1 = text.get_rect()\n",
    "    textRect1.center = (800//2, 800//2)\n",
    "\n",
    "    while True:\n",
    "        display_surface.fill(white)\n",
    "        display_surface.blit(text, textRect)\n",
    "        display_surface.blit(text1, textRect1)\n",
    "        for event in pygame.event.get():\n",
    "            if event.type == pygame.QUIT:\n",
    "                pygame.quit()\n",
    "                quit()\n",
    "        pygame.display.update()\n",
    "        \n",
    "display1(\"Jonnah\")            \n"
   ]
  },
  {
   "cell_type": "code",
   "execution_count": null,
   "metadata": {},
   "outputs": [],
   "source": [
    "def display2(name):\n",
    "    pygame.init()\n",
    "    white = (255, 255, 255)\n",
    "    green = (0, 255, 0)\n",
    "    blue = (0, 0, 128)\n",
    " \n",
    "    display_surface = pygame.display.set_mode((800, 800))\n",
    " \n",
    "    pygame.display.set_caption('Your Results')\n",
    "    font = pygame.font.Font('freesansbold.ttf', 32)\n",
    "    \n",
    "    text = font.render('Sorry' + name + '.', True, blue)\n",
    "    textRect = text.get_rect()\n",
    "    textRect.center = (800//2, 350)\n",
    " \n",
    "    text1 = font.render('We regret to inform you that you did not qualify.', True, blue)\n",
    "    textRect1 = text1.get_rect()\n",
    "    textRect1.center = (800//2, 800//2)\n",
    "\n",
    "    while True:\n",
    "        display_surface.fill(white)\n",
    "        display_surface.blit(text, textRect)\n",
    "        display_surface.blit(text1, textRect1)\n",
    "        for event in pygame.event.get():\n",
    "            if event.type == pygame.QUIT:\n",
    "                pygame.quit()\n",
    "                quit()\n",
    "        pygame.display.update()\n",
    "            \n",
    "#display2(\"kate\")"
   ]
  }
 ],
 "metadata": {
  "kernelspec": {
   "display_name": "Python 3",
   "language": "python",
   "name": "python3"
  },
  "language_info": {
   "codemirror_mode": {
    "name": "ipython",
    "version": 3
   },
   "file_extension": ".py",
   "mimetype": "text/x-python",
   "name": "python",
   "nbconvert_exporter": "python",
   "pygments_lexer": "ipython3",
   "version": "3.8.5"
  }
 },
 "nbformat": 4,
 "nbformat_minor": 4
}
