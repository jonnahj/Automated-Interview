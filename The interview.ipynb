{
 "cells": [
  {
   "cell_type": "code",
   "execution_count": 1,
   "metadata": {},
   "outputs": [],
   "source": [
    "import time\n",
    "import speech_recognition as sr\n",
    "from time import ctime\n",
    "from gtts import gTTS\n",
    "import gtts\n",
    "import os\n",
    "from playsound import playsound\n",
    "\n",
    "def speak(data):\n",
    "    tts = gTTS(data)\n",
    "    tts.save(\"hello.mp3\")\n",
    "    playsound(\"hello.mp3\")\n",
    "    os.remove(\"hello.mp3\")\n",
    "\n",
    "def recordAudio():\n",
    "    # Record Audio\n",
    "    r = sr.Recognizer()\n",
    "    with sr.Microphone() as source:\n",
    "        audio = r.listen(source)\n",
    "        \n",
    "    data = \"\"\n",
    "    try:\n",
    "        data = r.recognize_google(audio)\n",
    "    except sr.UnknownValueError:\n",
    "        #print(\"Google Speech Recognition could not understand audio\")\n",
    "        return 1\n",
    "    except sr.RequestError as e:\n",
    "        #print(\"Could not request results from Google Speech Recognition service; {0}\".format(e))\n",
    "        return 2\n",
    "    return data"
   ]
  },
  {
   "cell_type": "code",
   "execution_count": 2,
   "metadata": {},
   "outputs": [],
   "source": [
    "import numpy as np\n",
    "import random\n",
    "import pandas as pd \n",
    "import matplotlib.pyplot as plt\n",
    "import seaborn as sns\n",
    "from sklearn.model_selection import train_test_split, GridSearchCV\n",
    "from sklearn.feature_extraction.text import CountVectorizer\n",
    "from sklearn.metrics import f1_score, accuracy_score, precision_score, recall_score, make_scorer\n",
    "from time import time\n",
    "from datetime import datetime\n",
    "\n",
    "from sklearn.naive_bayes import MultinomialNB\n",
    "from sklearn.tree import DecisionTreeClassifier\n",
    "from sklearn.svm import LinearSVC\n",
    "from sklearn.ensemble import AdaBoostClassifier, RandomForestClassifier, BaggingClassifier\n",
    "from sklearn.linear_model import LogisticRegression, SGDClassifier\n",
    "from sklearn.neighbors import KNeighborsClassifier\n",
    "#from sklearn.externals import joblib\n"
   ]
  },
  {
   "cell_type": "code",
   "execution_count": 3,
   "metadata": {},
   "outputs": [
    {
     "name": "stdout",
     "output_type": "stream",
     "text": [
      "pygame 2.0.1 (SDL 2.0.14, Python 3.8.5)\n",
      "Hello from the pygame community. https://www.pygame.org/contribute.html\n"
     ]
    }
   ],
   "source": [
    "import pygame"
   ]
  },
  {
   "cell_type": "code",
   "execution_count": 4,
   "metadata": {},
   "outputs": [],
   "source": [
    "def pred(file, ans, param):\n",
    "    \n",
    "    df = pd.read_excel(file)\n",
    "    df = df.dropna()\n",
    "    df[param].astype('int')\n",
    "    df = df.reset_index()\n",
    "    \n",
    "    X_train, X_test, y_train, y_test = train_test_split(df['Answer'], df[param], random_state=0)\n",
    "       \n",
    "    vect = CountVectorizer(ngram_range=(1,5)).fit(X_train)\n",
    "\n",
    "    X_train_vectorized = vect.transform(X_train)\n",
    "\n",
    "    model = LogisticRegression()\n",
    "    model.fit(X_train_vectorized, y_train)\n",
    "    \n",
    "    predictions = model.predict(vect.transform(X_test))\n",
    "    \n",
    "    s=[ans]\n",
    "    k = vect.transform(s)\n",
    "    arr = model.predict(k)\n",
    "    return arr[0]\n",
    "    "
   ]
  },
  {
   "cell_type": "code",
   "execution_count": 5,
   "metadata": {},
   "outputs": [
    {
     "name": "stderr",
     "output_type": "stream",
     "text": [
      "C:\\Users\\Jonnah\\anaconda3\\lib\\site-packages\\sklearn\\linear_model\\_logistic.py:762: ConvergenceWarning: lbfgs failed to converge (status=1):\n",
      "STOP: TOTAL NO. of ITERATIONS REACHED LIMIT.\n",
      "\n",
      "Increase the number of iterations (max_iter) or scale the data as shown in:\n",
      "    https://scikit-learn.org/stable/modules/preprocessing.html\n",
      "Please also refer to the documentation for alternative solver options:\n",
      "    https://scikit-learn.org/stable/modules/linear_model.html#logistic-regression\n",
      "  n_iter_i = _check_optimize_result(\n"
     ]
    },
    {
     "data": {
      "text/plain": [
       "0"
      ]
     },
     "execution_count": 5,
     "metadata": {},
     "output_type": "execute_result"
    }
   ],
   "source": [
    "ans = pred('Answers1.xlsx', 'I hate you','effective_intelligence')\n",
    "ans"
   ]
  },
  {
   "cell_type": "code",
   "execution_count": 6,
   "metadata": {},
   "outputs": [],
   "source": [
    "def display1 (name):\n",
    "    import wx\n",
    "    app = wx.App() \n",
    "    window = wx.Frame(None, title = \"Interview Result\", size = (800,800)) \n",
    "    panel = wx.Panel(window) \n",
    "    label = wx.StaticText(panel, label = 'Congratulations ' + name + ' !', pos = (300,20)) \n",
    "    label1 = wx.StaticText(panel, label = 'You are selected for the job!', pos = (300,400))\n",
    "    window.Show(True) \n",
    "    app.MainLoop()\n",
    "display1(\"Jonnah\")"
   ]
  },
  {
   "cell_type": "code",
   "execution_count": 7,
   "metadata": {},
   "outputs": [],
   "source": [
    "def display2 (name):\n",
    "    import wx\n",
    "    app = wx.App() \n",
    "    window = wx.Frame(None, title = \"Interview Result\", size = (800,800)) \n",
    "    panel = wx.Panel(window) \n",
    "    font = wx.Font(12, wx.FONTFAMILY_MODERN, 0, 90, underline = False, faceName =\"\")\n",
    "    label = wx.StaticText(panel, label = 'Sorry ' + name + ' !', pos = (300,350)) \n",
    "    label1 = wx.StaticText(panel, label = 'We regret to inform you that you did not qualify.', pos = (300,400), style = wx.ALIGN_CENTER, size = wx.DefaultSize)\n",
    "    window.Show(True) \n",
    "    app.MainLoop()\n",
    "#display2(\"Kate\")"
   ]
  },
  {
   "cell_type": "code",
   "execution_count": 8,
   "metadata": {},
   "outputs": [],
   "source": [
    "def evaluate(total,score):\n",
    "    result = [m/n for m, n in zip(score, total)]\n",
    "    weights = [50,70,40,100,100]\n",
    "    mutiplied_factors = [m*n for m, n in zip(score, weights)]\n",
    "    #total_score = sum(mutiplied_factors)\n",
    "    return mutiplied_factors\n",
    "    \n",
    "#total = [2, 1, 1]\n",
    "#score = [0.0, 1.0, 0.0]\n",
    "#evaluate(total,score)"
   ]
  },
  {
   "cell_type": "code",
   "execution_count": 9,
   "metadata": {},
   "outputs": [],
   "source": [
    "def add(name,selected):\n",
    "    value = candidates.where(candidates[\"Name\"]==name)\n",
    "    value = value.dropna()\n",
    "    selected = selected.append(value)\n",
    "    return selected\n",
    "    \n",
    "#selected = add(\"Jonnah\",selected)\n",
    "#selected = add(\"Kavya\", selected)"
   ]
  },
  {
   "cell_type": "code",
   "execution_count": 10,
   "metadata": {},
   "outputs": [],
   "source": [
    "def greet():\n",
    "    now = datetime.now().time()\n",
    "    morning = now.replace(hour=12, minute=0, second=0, microsecond=0)\n",
    "    afternoon = now.replace(hour=15, minute=0, second=0, microsecond=0)\n",
    "    if (now < morning):\n",
    "        greeting = \"Good Morning\"\n",
    "    elif(now>= morning and now<=afternoon):\n",
    "        greeting = \"Good Afternoon\"\n",
    "    else:\n",
    "        greeting = \"Good Evening\"\n",
    "    return greeting\n",
    "#greeting = greet()\n",
    "#greeting"
   ]
  },
  {
   "cell_type": "code",
   "execution_count": 11,
   "metadata": {},
   "outputs": [],
   "source": [
    "from openpyxl import *\n",
    "from tkinter import *\n",
    "def form():\n",
    "    \n",
    "    def focus1(event): \n",
    "        answer_field.focus_set()\n",
    "        \n",
    "    def insert():\n",
    "        global u_input \n",
    "        u_input  = answer_field.get(\"1.0\",END)\n",
    "        #print(name)\n",
    "        root.destroy()\n",
    "    \n",
    "    def clear(): \n",
    "        answer_field.delete(0, END)\n",
    "        \n",
    "    root = Tk() \n",
    "    root.configure(background='blue')\n",
    "   \n",
    "    root.title(\"Interview\") \n",
    "    root.geometry(\"800x800\")  \n",
    "  \n",
    "    answer = Label(root, text=\"Type in the answer below!\", bg='white') \n",
    "    answer.grid(row=1, column=3, ipadx=\"100\") \n",
    "    \n",
    "    answer_field = Text(root)  \n",
    "  \n",
    "    answer_field.bind(\"<Return>\", focus1)  \n",
    "    answer_field.grid(row=4, column=3, ipadx=\"100\")  \n",
    "    \n",
    "    submit = Button(root, text=\"Submit\", fg=\"Black\", bg=\"Red\", command=insert) \n",
    "    submit.grid(row=8, column=3)\n",
    "\n",
    "    # start the GUI \n",
    "    root.mainloop()\n",
    "    \n",
    "#form()\n",
    "#print(u_input )"
   ]
  },
  {
   "cell_type": "code",
   "execution_count": 12,
   "metadata": {},
   "outputs": [],
   "source": [
    "candidates = pd.read_excel(\"Candidates.xlsx\")\n",
    "selected = pd.DataFrame(columns = [\"Name\", \"Email\", \"Phone\", \"Address\"])"
   ]
  },
  {
   "cell_type": "code",
   "execution_count": 13,
   "metadata": {},
   "outputs": [
    {
     "ename": "KeyboardInterrupt",
     "evalue": "",
     "output_type": "error",
     "traceback": [
      "\u001b[1;31m---------------------------------------------------------------------------\u001b[0m",
      "\u001b[1;31mKeyboardInterrupt\u001b[0m                         Traceback (most recent call last)",
      "\u001b[1;32m<ipython-input-13-7d1c303b0cd8>\u001b[0m in \u001b[0;36m<module>\u001b[1;34m\u001b[0m\n\u001b[0;32m     19\u001b[0m \u001b[0mspeak\u001b[0m\u001b[1;33m(\u001b[0m\u001b[1;34m\"So tell me what kind of music you like to listen to\"\u001b[0m\u001b[1;33m)\u001b[0m\u001b[1;33m\u001b[0m\u001b[1;33m\u001b[0m\u001b[0m\n\u001b[0;32m     20\u001b[0m \u001b[1;33m\u001b[0m\u001b[0m\n\u001b[1;32m---> 21\u001b[1;33m \u001b[0mform\u001b[0m\u001b[1;33m(\u001b[0m\u001b[1;33m)\u001b[0m\u001b[1;33m\u001b[0m\u001b[1;33m\u001b[0m\u001b[0m\n\u001b[0m\u001b[0;32m     22\u001b[0m \u001b[0mmusic\u001b[0m \u001b[1;33m=\u001b[0m \u001b[0mu_input\u001b[0m\u001b[1;33m.\u001b[0m\u001b[0mstrip\u001b[0m\u001b[1;33m(\u001b[0m\u001b[1;33m)\u001b[0m\u001b[1;33m\u001b[0m\u001b[1;33m\u001b[0m\u001b[0m\n\u001b[0;32m     23\u001b[0m \u001b[1;31m#define = input()\u001b[0m\u001b[1;33m\u001b[0m\u001b[1;33m\u001b[0m\u001b[1;33m\u001b[0m\u001b[0m\n",
      "\u001b[1;32m<ipython-input-11-1b73dccf45b3>\u001b[0m in \u001b[0;36mform\u001b[1;34m()\u001b[0m\n\u001b[0;32m     33\u001b[0m \u001b[1;33m\u001b[0m\u001b[0m\n\u001b[0;32m     34\u001b[0m     \u001b[1;31m# start the GUI\u001b[0m\u001b[1;33m\u001b[0m\u001b[1;33m\u001b[0m\u001b[1;33m\u001b[0m\u001b[0m\n\u001b[1;32m---> 35\u001b[1;33m     \u001b[0mroot\u001b[0m\u001b[1;33m.\u001b[0m\u001b[0mmainloop\u001b[0m\u001b[1;33m(\u001b[0m\u001b[1;33m)\u001b[0m\u001b[1;33m\u001b[0m\u001b[1;33m\u001b[0m\u001b[0m\n\u001b[0m\u001b[0;32m     36\u001b[0m \u001b[1;33m\u001b[0m\u001b[0m\n\u001b[0;32m     37\u001b[0m \u001b[1;31m#form()\u001b[0m\u001b[1;33m\u001b[0m\u001b[1;33m\u001b[0m\u001b[1;33m\u001b[0m\u001b[0m\n",
      "\u001b[1;32m~\\anaconda3\\lib\\tkinter\\__init__.py\u001b[0m in \u001b[0;36mmainloop\u001b[1;34m(self, n)\u001b[0m\n\u001b[0;32m   1418\u001b[0m     \u001b[1;32mdef\u001b[0m \u001b[0mmainloop\u001b[0m\u001b[1;33m(\u001b[0m\u001b[0mself\u001b[0m\u001b[1;33m,\u001b[0m \u001b[0mn\u001b[0m\u001b[1;33m=\u001b[0m\u001b[1;36m0\u001b[0m\u001b[1;33m)\u001b[0m\u001b[1;33m:\u001b[0m\u001b[1;33m\u001b[0m\u001b[1;33m\u001b[0m\u001b[0m\n\u001b[0;32m   1419\u001b[0m         \u001b[1;34m\"\"\"Call the mainloop of Tk.\"\"\"\u001b[0m\u001b[1;33m\u001b[0m\u001b[1;33m\u001b[0m\u001b[0m\n\u001b[1;32m-> 1420\u001b[1;33m         \u001b[0mself\u001b[0m\u001b[1;33m.\u001b[0m\u001b[0mtk\u001b[0m\u001b[1;33m.\u001b[0m\u001b[0mmainloop\u001b[0m\u001b[1;33m(\u001b[0m\u001b[0mn\u001b[0m\u001b[1;33m)\u001b[0m\u001b[1;33m\u001b[0m\u001b[1;33m\u001b[0m\u001b[0m\n\u001b[0m\u001b[0;32m   1421\u001b[0m \u001b[1;33m\u001b[0m\u001b[0m\n\u001b[0;32m   1422\u001b[0m     \u001b[1;32mdef\u001b[0m \u001b[0mquit\u001b[0m\u001b[1;33m(\u001b[0m\u001b[0mself\u001b[0m\u001b[1;33m)\u001b[0m\u001b[1;33m:\u001b[0m\u001b[1;33m\u001b[0m\u001b[1;33m\u001b[0m\u001b[0m\n",
      "\u001b[1;31mKeyboardInterrupt\u001b[0m: "
     ]
    }
   ],
   "source": [
    "speak(greet()+\"! My name is Kate! and I'll be your interviewer for the day. Hope you are enjoying the day. You can just relax and be yourself. Nothing to be anxious about, I'am programmed to be polite and considerate.\")\n",
    "speak(\"I'll ask the questions and you'll have to type the answers in for me.Wondering where to type the answers ? well, text boxes will magically appear once i finish each question and disappear after you submit the anser for each question. This will happen for each question. Chill! you'll get used to it... If you want me to repeat a question I'll be glad to do so, all you have to do is simply type repeat on the answer space. Remember, I may not be a human but I'm still your interviewer so you are expected to be polite and maintain decorum.\")\n",
    "speak(\"If you ever accidentally close the dialog box, please call the administrator immediately!\")\n",
    "speak(\"May I please know your name ?\")\n",
    "\n",
    "form()\n",
    "name = u_input.strip()\n",
    "#name=input()\n",
    "speak(\"Nice name! Can I have your mail i d as well.\")\n",
    "form()\n",
    "email = u_input.strip()\n",
    "#email = u_input()\n",
    "speak(\"So \"+name+\", take how much ever time you want to and feel free to express yourself. Tell me three words that define you\")\n",
    "\n",
    "form()\n",
    "define = u_input.strip()\n",
    "#define = input()\n",
    "speak(\"Wow! you sound like an amazing person. That speaks loadz about you\") \n",
    "speak(\"So tell me what kind of music you like to listen to\")\n",
    "\n",
    "form()\n",
    "music = u_input.strip()\n",
    "#define = input()\n",
    "speak(\"What a coincidence! I like that too\")\n",
    "speak(\"Tell me the most interesting thing about you that is not in your resume.\")\n",
    "\n",
    "form()\n",
    "define = u_input.strip()\n",
    "#define = input()\n",
    "speak(\"Thats wonderful! Your life must be super fun! Well\"+name+\", try to be as ellaborate as possible for the following questions. I'm smart by definition but not smart enough to read you mind. I can read only what you type so keep that in your mind.\")\n",
    "questions = pd.read_excel(\"Questions.xlsx\")\n",
    "questions = questions.reset_index()\n",
    "total = [0,0,0,0,0]\n",
    "score = [0,0,0,0,0]\n",
    "parameters = ['effective_intelligence','planning_organising', 'speed_decision', 'liveliness', 'adaptability']\n",
    "enders = [\"Thats a clever answer, moving on!\", \"You are doing good so far, let's go to the next question\", \n",
    "          \"I'm deeply impressed by your performance, lets move on.\", \"You are one of the star performers I've met so far\",\n",
    "         \"Good! keep it up\"]\n",
    "for i in range (0,len(questions)):\n",
    "    quest = questions.iloc[i].tolist()\n",
    "    question_n = quest[0]\n",
    "    quest_param = quest[2:7]\n",
    "    question = quest[1]\n",
    "    file = quest[7]\n",
    "    total = np.add(total, quest_param)\n",
    "    repeat = 0\n",
    "    while(True):\n",
    "        speak(question)\n",
    "        form()\n",
    "        answer = u_input\n",
    "        answer = answer.strip()\n",
    "        #answer = input()\n",
    "        repeat += 1\n",
    "        if (answer.lower() != \"repeat\" ):\n",
    "            break\n",
    "    for i in range(0,5):\n",
    "        if (quest_param[i] == 1):\n",
    "            #print(parameters[i])\n",
    "            if (parameters[i]== 'effective_intelligence' and repeat > 1):\n",
    "                val = 0\n",
    "            else:\n",
    "                val = pred(file, answer, parameters[i])\n",
    "            score[i] += val\n",
    "    n = random.randint(0,4)\n",
    "    speak(enders[n])\n",
    "\n",
    "total_score = evaluate(total,score)\n",
    "total = sum(total_score)\n",
    "if (total>=298):\n",
    "    print(total)\n",
    "    print(score)\n",
    "    speak(\"Congratulation \" + name + \"! You are selected\")\n",
    "    selected = add(name,selected)\n",
    "    display1(name)\n",
    "else:\n",
    "    print(total)\n",
    "    print(score)\n",
    "    display2(name)"
   ]
  },
  {
   "cell_type": "code",
   "execution_count": 53,
   "metadata": {},
   "outputs": [],
   "source": [
    "selected.to_csv(\"Selected Candidates.csv\")"
   ]
  },
  {
   "cell_type": "code",
   "execution_count": null,
   "metadata": {},
   "outputs": [],
   "source": []
  },
  {
   "cell_type": "code",
   "execution_count": null,
   "metadata": {},
   "outputs": [],
   "source": []
  },
  {
   "cell_type": "code",
   "execution_count": null,
   "metadata": {},
   "outputs": [],
   "source": [
    "questions = pd.read_excel(\"Questions.xlsx\")\n",
    "questions = questions.reset_index()\n",
    "total = [0,0,0,0,0]\n",
    "score = [0,0,0,0,0]\n",
    "parameters = ['effective_intelligence','planning_organising', 'speed_decision', 'liveliness', 'adaptability']\n",
    "enders = [\"Thats a clever answer, moving on!\", \"You are doing good so far, let's go to the next question\", \n",
    "          \"I'm deeply impressed by your performance, lets move on.\", \"You are one the star performers I've met so far\",\n",
    "         \"Good! keep it up\"]\n",
    "for i in range (0,2):\n",
    "    quest = questions.iloc[i].tolist()\n",
    "    quest_param = quest[2:7]\n",
    "    question = quest[1]\n",
    "    file = quest[7]\n",
    "    total = np.add(total, quest_param)\n",
    "    repeat = 0\n",
    "    while(True):\n",
    "        speak(question)\n",
    "        answer = input()\n",
    "        repeat += 1\n",
    "        if (answer.lower() != \"repeat\" ):\n",
    "            break\n",
    "    for i in range(0,5):\n",
    "        if (quest_param[i] == 1):\n",
    "            #print(parameters[i])\n",
    "            val = pred(file, answer, parameters[i])\n",
    "            score[i] += val\n",
    "    n = random.randint(0,4)\n",
    "    speak(enders[n])\n",
    "    \n",
    "print(total)\n",
    "print(score)\n",
    "    "
   ]
  },
  {
   "cell_type": "code",
   "execution_count": null,
   "metadata": {},
   "outputs": [],
   "source": [
    "import random\n",
    "n = random.randint(0,5)\n",
    "n"
   ]
  },
  {
   "cell_type": "code",
   "execution_count": 35,
   "metadata": {},
   "outputs": [
    {
     "data": {
      "text/plain": [
       "1.0"
      ]
     },
     "execution_count": 35,
     "metadata": {},
     "output_type": "execute_result"
    }
   ],
   "source": [
    "    df = pd.read_excel(\"Answers3.xlsx\")\n",
    "    df = df.dropna()\n",
    "    df[\"speed_decision\"].astype('int')\n",
    "    df = df.reset_index()\n",
    "    \n",
    "    X_train, X_test, y_train, y_test = train_test_split(df['Answer'], df['liveliness'], random_state=0)\n",
    "    \n",
    "    vect = CountVectorizer(ngram_range=(1,5)).fit(X_train)\n",
    "\n",
    "    X_train_vectorized = vect.transform(X_train)\n",
    "\n",
    "    model = LogisticRegression()\n",
    "    model.fit(X_train_vectorized, y_train)\n",
    "    \n",
    "    predictions = model.predict(vect.transform(X_test))\n",
    "    score = accuracy_score(y_test, predictions)\n",
    "    score"
   ]
  },
  {
   "cell_type": "code",
   "execution_count": 31,
   "metadata": {},
   "outputs": [
    {
     "data": {
      "text/plain": [
       "array([0], dtype=int64)"
      ]
     },
     "execution_count": 31,
     "metadata": {},
     "output_type": "execute_result"
    }
   ],
   "source": [
    "    s=[\"I'll get down and wait with my mother and ask my friend to take the old man to the hospital\"]\n",
    "    #s= [\"i wait with mom. friend take old man and call me cab.\"]\n",
    "    #s = [\"I'll travel everyday\"]\n",
    "    k = vect.transform(s)\n",
    "    arr = model.predict(k)\n",
    "    arr"
   ]
  },
  {
   "cell_type": "code",
   "execution_count": null,
   "metadata": {},
   "outputs": [],
   "source": [
    "import pygame,sys\n",
    "import time\n",
    "import speech_recognition as sr\n",
    "from time import ctime\n",
    "from gtts import gTTS\n",
    "import gtts\n",
    "import os\n",
    "from playsound import playsound"
   ]
  },
  {
   "cell_type": "code",
   "execution_count": null,
   "metadata": {},
   "outputs": [],
   "source": []
  }
 ],
 "metadata": {
  "kernelspec": {
   "display_name": "Python 3",
   "language": "python",
   "name": "python3"
  },
  "language_info": {
   "codemirror_mode": {
    "name": "ipython",
    "version": 3
   },
   "file_extension": ".py",
   "mimetype": "text/x-python",
   "name": "python",
   "nbconvert_exporter": "python",
   "pygments_lexer": "ipython3",
   "version": "3.8.5"
  }
 },
 "nbformat": 4,
 "nbformat_minor": 4
}
